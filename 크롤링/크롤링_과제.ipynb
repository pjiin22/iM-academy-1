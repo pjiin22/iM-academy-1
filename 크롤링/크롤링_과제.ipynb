{
  "nbformat": 4,
  "nbformat_minor": 0,
  "metadata": {
    "colab": {
      "provenance": []
    },
    "kernelspec": {
      "name": "python3",
      "display_name": "Python 3"
    },
    "language_info": {
      "name": "python"
    }
  },
  "cells": [
    {
      "cell_type": "markdown",
      "source": [
        "# 수집"
      ],
      "metadata": {
        "id": "du0tGSJNns1m"
      }
    },
    {
      "cell_type": "code",
      "source": [
        "from bs4 import BeautifulSoup\n",
        "import requests\n",
        "import pandas as pd\n",
        "import time"
      ],
      "metadata": {
        "id": "WypoF5Skgj0w"
      },
      "execution_count": 5,
      "outputs": []
    },
    {
      "cell_type": "code",
      "source": [
        "group = html.find(\"td\", class_=\"each\").text.strip()\n",
        "\n",
        "nums = html.find_all(\"span\", class_=\"num\")\n",
        "num = ''.join([n.text for n in nums])"
      ],
      "metadata": {
        "id": "X9ngAcg5h9Ul"
      },
      "execution_count": 22,
      "outputs": []
    },
    {
      "cell_type": "code",
      "source": [
        "def make_numbers(html):\n",
        "    nums = html.find_all(\"span\", class_=\"num\")\n",
        "    del nums[-3:-1]\n",
        "    num = ''.join([n.text for n in nums])\n",
        "\n",
        "    return num\n",
        "\n",
        "\n",
        "def make_groups(html):\n",
        "    group = html.find(\"td\", class_=\"each\").text.strip()\n",
        "\n",
        "    return group"
      ],
      "metadata": {
        "id": "ErlG-hY0i11J"
      },
      "execution_count": 32,
      "outputs": []
    },
    {
      "cell_type": "code",
      "source": [
        "def make_numbers(html):\n",
        "    group = html.find(\"td\", class_=\"each\").text.strip()\n",
        "\n",
        "    nums = html.find_all(\"span\", class_=\"num\")\n",
        "    num = ''.join([n.text for n in nums])\n",
        "\n",
        "    return group, num"
      ],
      "metadata": {
        "id": "z1BvPbr2mAfP"
      },
      "execution_count": 33,
      "outputs": []
    },
    {
      "cell_type": "code",
      "source": [
        "import random\n",
        "\n",
        "total = []\n",
        "for n in range(1, 21):\n",
        "    url = requests.get(f\"https://search.daum.net/search?nil_suggest=btn&w=tot&DA=SBC&q={n}%ED%9A%8C+%EC%97%B0%EA%B8%88%EB%B3%B5%EA%B6%8C\")\n",
        "    html = BeautifulSoup(url.text)\n",
        "\n",
        "    group, num = make_numbers(html)\n",
        "\n",
        "    total.append([group, num])\n",
        "\n",
        "    time.sleep(random.random() + 1)\n",
        "\n",
        "print(total)"
      ],
      "metadata": {
        "colab": {
          "base_uri": "https://localhost:8080/"
        },
        "id": "xR90ky30idzR",
        "outputId": "fa2f4add-40d5-4de8-8aea-9327f03de434"
      },
      "execution_count": 34,
      "outputs": [
        {
          "output_type": "stream",
          "name": "stdout",
          "text": [
            "[['4조', '162132162132162132162132162132-62132--2132---132----32-----2278239'], ['2조', '450558450558450558450558450558-50558--0558---558----58-----8154457'], ['4조', '544955544955544955544955544955-44955--4955---955----55-----5059369'], ['4조', '124420124420124420124420124420-24420--4420---420----20-----0221097'], ['4조', '754655754655754655754655754655-54655--4655---655----55-----5190779'], ['5조', '193202193202193202193202193202-93202--3202---202----02-----2206460'], ['2조', '597093597093597093597093597093-97093--7093---093----93-----3482595'], ['4조', '234058234058234058234058234058-34058--4058---058----58-----8548682'], ['3조', '133510133510133510133510133510-33510--3510---510----10-----0213240'], ['2조', '770173770173770173770173770173-70173--0173---173----73-----3064263'], ['1조', '867654867654867654867654867654-67654--7654---654----54-----4485530'], ['5조', '076676076676076676076676076676-76676--6676---676----76-----6611004'], ['1조', '669245669245669245669245669245-69245--9245---245----45-----5880089'], ['3조', '432496432496432496432496432496-32496--2496---496----96-----6451009'], ['4조', '477238477238477238477238477238-77238--7238---238----38-----8146282'], ['4조', '664056664056664056664056664056-64056--4056---056----56-----6657985'], ['3조', '317227317227317227317227317227-17227--7227---227----27-----7031708'], ['1조', '562222562222562222562222562222-62222--2222---222----22-----2881980'], ['5조', '859219859219859219859219859219-59219--9219---219----19-----9411936'], ['1조', '819605819605819605819605819605-19605--9605---605----05-----5555687']]\n"
          ]
        }
      ]
    },
    {
      "cell_type": "markdown",
      "source": [
        "# 저장"
      ],
      "metadata": {
        "id": "9xGr4u18nuyi"
      }
    },
    {
      "cell_type": "code",
      "source": [
        "lotto_df = pd.DataFrame(total, columns=['조', '번호'])\n",
        "lotto_df.to_excel(\"lotto.xlsx\", index=False)"
      ],
      "metadata": {
        "id": "00PTf1pvm1OR"
      },
      "execution_count": 27,
      "outputs": []
    },
    {
      "cell_type": "markdown",
      "source": [
        "# 분석"
      ],
      "metadata": {
        "id": "4GqGuDcVnqVy"
      }
    },
    {
      "cell_type": "code",
      "source": [
        "import pandas as pd\n",
        "import matplotlib.pyplot as plt\n",
        "from collections import Counter\n",
        "\n",
        "lotto_df = pd.read_excel('lotto.xlsx')\n",
        "\n",
        "group_counts = Counter(lotto_df['조'])\n",
        "\n",
        "for group, count in group_counts.items():\n",
        "    print(f'{group}: {count}회 출현')\n",
        "\n",
        "groups = list(group_counts.keys())\n",
        "counts = list(group_counts.values())\n",
        "\n",
        "plt.bar(groups, counts)\n",
        "plt.show()"
      ],
      "metadata": {
        "colab": {
          "base_uri": "https://localhost:8080/",
          "height": 581
        },
        "id": "P6K1nouqm36I",
        "outputId": "2f6aad4f-ad54-43ec-8ef5-13725ce60ea2"
      },
      "execution_count": 28,
      "outputs": [
        {
          "output_type": "stream",
          "name": "stdout",
          "text": [
            "4조: 7회 출현\n",
            "2조: 3회 출현\n",
            "5조: 3회 출현\n",
            "3조: 3회 출현\n",
            "1조: 4회 출현\n"
          ]
        },
        {
          "output_type": "stream",
          "name": "stderr",
          "text": [
            "/usr/local/lib/python3.10/dist-packages/IPython/core/pylabtools.py:151: UserWarning: Glyph 51312 (\\N{HANGUL SYLLABLE JO}) missing from current font.\n",
            "  fig.canvas.print_figure(bytes_io, **kw)\n"
          ]
        },
        {
          "output_type": "display_data",
          "data": {
            "text/plain": [
              "<Figure size 640x480 with 1 Axes>"
            ],
            "image/png": "[encoded data removed]"
          },
          "metadata": {}
        }
      ]
    },
    {
      "cell_type": "code",
      "source": [
        "lotto_df['끝번호'] = lotto_df['번호'].astype(str).str[-1]\n",
        "\n",
        "last_appearance = {}\n",
        "absence_streaks = {}\n",
        "\n",
        "for idx, row in lotto_df.iterrows():\n",
        "    끝번호 = row['끝번호']\n",
        "\n",
        "    if 끝번호 in last_appearance:\n",
        "        absence_streak = idx + 1 - last_appearance[끝번호]\n",
        "        if 끝번호 in absence_streaks:\n",
        "            absence_streaks[끝번호] = max(absence_streaks[끝번호], absence_streak)\n",
        "        else:\n",
        "            absence_streaks[끝번호] = absence_streak\n",
        "    else:\n",
        "        absence_streaks[끝번호] = 0\n",
        "\n",
        "    last_appearance[끝번호] = idx + 1\n",
        "\n",
        "current_round = lotto_df.shape[0]\n",
        "current_absence = {k: current_round - v for k, v in last_appearance.items()}\n",
        "longest_current_absence = max(current_absence.items(), key=lambda x: x[1])\n",
        "\n",
        "longest_streak = max(absence_streaks.items(), key=lambda x: x[1])\n",
        "\n",
        "print(f'현재 {longest_current_absence[0]}번 : {longest_current_absence[1]}회 안나오고있습니다')\n",
        "print(f'{longest_streak[0]}번 : {longest_streak[1]}회로 역대 최대입니다')\n",
        "\n",
        "keys = list(current_absence.keys())\n",
        "values = [current_absence[k] for k in keys]\n",
        "\n",
        "plt.bar(keys, values)\n",
        "plt.show()"
      ],
      "metadata": {
        "colab": {
          "base_uri": "https://localhost:8080/",
          "height": 467
        },
        "id": "oUS1varSn4BO",
        "outputId": "f9b93c61-66cc-4e84-db91-105ee87ffbef"
      },
      "execution_count": 31,
      "outputs": [
        {
          "output_type": "stream",
          "name": "stdout",
          "text": [
            "현재 3번 : 10회 안나오고있습니다\n",
            "7번 : 16회로 역대 최대입니다\n"
          ]
        },
        {
          "output_type": "display_data",
          "data": {
            "text/plain": [
              "<Figure size 640x480 with 1 Axes>"
            ],
            "image/png": "[encoded data removed]"
          },
          "metadata": {}
        }
      ]
    },
    {
      "cell_type": "code",
      "source": [],
      "metadata": {
        "id": "cCZy481CoXyH"
      },
      "execution_count": null,
      "outputs": []
    }
  ]
}