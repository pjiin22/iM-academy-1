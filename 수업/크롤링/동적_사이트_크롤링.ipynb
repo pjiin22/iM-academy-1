{
 "cells": [
  {
   "cell_type": "markdown",
   "metadata": {
    "id": "HGnQqerMDCBN"
   },
   "source": [
    "매크로를 이용해 동적 사이트 가져오기 \\\n",
    "셀레니움 이용!"
   ]
  },
  {
   "cell_type": "code",
   "execution_count": 2,
   "metadata": {
    "colab": {
     "base_uri": "https://localhost:8080/"
    },
    "id": "SsimJIhhC008",
    "outputId": "5775ae1d-bfeb-406c-cf8a-cdf4423d06eb"
   },
   "outputs": [
    {
     "name": "stdout",
     "output_type": "stream",
     "text": [
      "Requirement already satisfied: selenium in /usr/local/lib/python3.10/dist-packages (4.25.0)\n",
      "Requirement already satisfied: urllib3<3,>=1.26 in /usr/local/lib/python3.10/dist-packages (from urllib3[socks]<3,>=1.26->selenium) (2.2.3)\n",
      "Requirement already satisfied: trio~=0.17 in /usr/local/lib/python3.10/dist-packages (from selenium) (0.26.2)\n",
      "Requirement already satisfied: trio-websocket~=0.9 in /usr/local/lib/python3.10/dist-packages (from selenium) (0.11.1)\n",
      "Requirement already satisfied: certifi>=2021.10.8 in /usr/local/lib/python3.10/dist-packages (from selenium) (2024.8.30)\n",
      "Requirement already satisfied: typing_extensions~=4.9 in /usr/local/lib/python3.10/dist-packages (from selenium) (4.12.2)\n",
      "Requirement already satisfied: websocket-client~=1.8 in /usr/local/lib/python3.10/dist-packages (from selenium) (1.8.0)\n",
      "Requirement already satisfied: attrs>=23.2.0 in /usr/local/lib/python3.10/dist-packages (from trio~=0.17->selenium) (24.2.0)\n",
      "Requirement already satisfied: sortedcontainers in /usr/local/lib/python3.10/dist-packages (from trio~=0.17->selenium) (2.4.0)\n",
      "Requirement already satisfied: idna in /usr/local/lib/python3.10/dist-packages (from trio~=0.17->selenium) (3.10)\n",
      "Requirement already satisfied: outcome in /usr/local/lib/python3.10/dist-packages (from trio~=0.17->selenium) (1.3.0.post0)\n",
      "Requirement already satisfied: sniffio>=1.3.0 in /usr/local/lib/python3.10/dist-packages (from trio~=0.17->selenium) (1.3.1)\n",
      "Requirement already satisfied: exceptiongroup in /usr/local/lib/python3.10/dist-packages (from trio~=0.17->selenium) (1.2.2)\n",
      "Requirement already satisfied: wsproto>=0.14 in /usr/local/lib/python3.10/dist-packages (from trio-websocket~=0.9->selenium) (1.2.0)\n",
      "Requirement already satisfied: pysocks!=1.5.7,<2.0,>=1.5.6 in /usr/local/lib/python3.10/dist-packages (from urllib3[socks]<3,>=1.26->selenium) (1.7.1)\n",
      "Requirement already satisfied: h11<1,>=0.9.0 in /usr/local/lib/python3.10/dist-packages (from wsproto>=0.14->trio-websocket~=0.9->selenium) (0.14.0)\n"
     ]
    }
   ],
   "source": [
    "!pip install selenium"
   ]
  },
  {
   "cell_type": "code",
   "execution_count": 11,
   "metadata": {
    "colab": {
     "base_uri": "https://localhost:8080/",
     "height": 696
    },
    "id": "E9kKybVKDb-F",
    "outputId": "909ab8f9-f3b4-4e7b-fa81-274c5675a2ff"
   },
   "outputs": [],
   "source": [
    "from selenium import webdriver\n",
    "from selenium.webdriver.common.by import By\n",
    "from selenium.webdriver.common.Keys import Keys\n",
    "\n",
    "driver = webdriver.Chrome() #두번 작동 시키면 크롬이 두개 열림. 한번만 하기"
   ]
  },
  {
   "cell_type": "code",
   "execution_count": 15,
   "metadata": {
    "id": "VQHmTubtEmow"
   },
   "outputs": [],
   "source": [
    "import time\n",
    "\n",
    "driver.get('https://www.naver.com')\n",
    "time.sleep(5)\n",
    "\n",
    "search = driver.find_element(By.CSS_SELECTOR, \"input.search_input\")\n",
    "search.send_keys(\"동대구\")\n",
    "time.sleep(1)\n",
    "search.send_keys(Keys.RETURN)"
   ]
  },
  {
   "cell_type": "markdown",
   "metadata": {},
   "source": [
    "### 정보 제공 제한 뚫기"
   ]
  },
  {
   "cell_type": "code",
   "execution_count": 18,
   "metadata": {},
   "outputs": [
    {
     "name": "stdout",
     "output_type": "stream",
     "text": [
      "Collecting undetected-chromedriver\n",
      "  Downloading undetected-chromedriver-3.5.5.tar.gz (65 kB)\n",
      "     ---------------------------------------- 0.0/65.4 kB ? eta -:--:--\n",
      "     ------ --------------------------------- 10.2/65.4 kB ? eta -:--:--\n",
      "     ---------------------------------------- 65.4/65.4 kB 1.2 MB/s eta 0:00:00\n",
      "  Preparing metadata (setup.py): started\n",
      "  Preparing metadata (setup.py): finished with status 'done'\n",
      "Requirement already satisfied: selenium>=4.9.0 in c:\\users\\dia\\anaconda3\\lib\\site-packages (from undetected-chromedriver) (4.22.0)\n",
      "Requirement already satisfied: requests in c:\\users\\dia\\anaconda3\\lib\\site-packages (from undetected-chromedriver) (2.32.2)\n",
      "Collecting websockets (from undetected-chromedriver)\n",
      "  Downloading websockets-13.1-cp312-cp312-win_amd64.whl.metadata (7.0 kB)\n",
      "Requirement already satisfied: urllib3<3,>=1.26 in c:\\users\\dia\\anaconda3\\lib\\site-packages (from urllib3[socks]<3,>=1.26->selenium>=4.9.0->undetected-chromedriver) (2.2.2)\n",
      "Requirement already satisfied: trio~=0.17 in c:\\users\\dia\\anaconda3\\lib\\site-packages (from selenium>=4.9.0->undetected-chromedriver) (0.26.0)\n",
      "Requirement already satisfied: trio-websocket~=0.9 in c:\\users\\dia\\anaconda3\\lib\\site-packages (from selenium>=4.9.0->undetected-chromedriver) (0.11.1)\n",
      "Requirement already satisfied: certifi>=2021.10.8 in c:\\users\\dia\\anaconda3\\lib\\site-packages (from selenium>=4.9.0->undetected-chromedriver) (2024.7.4)\n",
      "Requirement already satisfied: typing_extensions>=4.9.0 in c:\\users\\dia\\anaconda3\\lib\\site-packages (from selenium>=4.9.0->undetected-chromedriver) (4.11.0)\n",
      "Requirement already satisfied: websocket-client>=1.8.0 in c:\\users\\dia\\anaconda3\\lib\\site-packages (from selenium>=4.9.0->undetected-chromedriver) (1.8.0)\n",
      "Requirement already satisfied: charset-normalizer<4,>=2 in c:\\users\\dia\\anaconda3\\lib\\site-packages (from requests->undetected-chromedriver) (2.0.4)\n",
      "Requirement already satisfied: idna<4,>=2.5 in c:\\users\\dia\\anaconda3\\lib\\site-packages (from requests->undetected-chromedriver) (3.7)\n",
      "Requirement already satisfied: attrs>=23.2.0 in c:\\users\\dia\\anaconda3\\lib\\site-packages (from trio~=0.17->selenium>=4.9.0->undetected-chromedriver) (23.2.0)\n",
      "Requirement already satisfied: sortedcontainers in c:\\users\\dia\\anaconda3\\lib\\site-packages (from trio~=0.17->selenium>=4.9.0->undetected-chromedriver) (2.4.0)\n",
      "Requirement already satisfied: outcome in c:\\users\\dia\\anaconda3\\lib\\site-packages (from trio~=0.17->selenium>=4.9.0->undetected-chromedriver) (1.3.0.post0)\n",
      "Requirement already satisfied: sniffio>=1.3.0 in c:\\users\\dia\\anaconda3\\lib\\site-packages (from trio~=0.17->selenium>=4.9.0->undetected-chromedriver) (1.3.0)\n",
      "Requirement already satisfied: cffi>=1.14 in c:\\users\\dia\\anaconda3\\lib\\site-packages (from trio~=0.17->selenium>=4.9.0->undetected-chromedriver) (1.16.0)\n",
      "Requirement already satisfied: wsproto>=0.14 in c:\\users\\dia\\anaconda3\\lib\\site-packages (from trio-websocket~=0.9->selenium>=4.9.0->undetected-chromedriver) (1.2.0)\n",
      "Requirement already satisfied: pysocks!=1.5.7,<2.0,>=1.5.6 in c:\\users\\dia\\anaconda3\\lib\\site-packages (from urllib3[socks]<3,>=1.26->selenium>=4.9.0->undetected-chromedriver) (1.7.1)\n",
      "Requirement already satisfied: pycparser in c:\\users\\dia\\anaconda3\\lib\\site-packages (from cffi>=1.14->trio~=0.17->selenium>=4.9.0->undetected-chromedriver) (2.21)\n",
      "Requirement already satisfied: h11<1,>=0.9.0 in c:\\users\\dia\\anaconda3\\lib\\site-packages (from wsproto>=0.14->trio-websocket~=0.9->selenium>=4.9.0->undetected-chromedriver) (0.14.0)\n",
      "Downloading websockets-13.1-cp312-cp312-win_amd64.whl (159 kB)\n",
      "   ---------------------------------------- 0.0/159.1 kB ? eta -:--:--\n",
      "   ---------------------------------------- 159.1/159.1 kB 4.8 MB/s eta 0:00:00\n",
      "Building wheels for collected packages: undetected-chromedriver\n",
      "  Building wheel for undetected-chromedriver (setup.py): started\n",
      "  Building wheel for undetected-chromedriver (setup.py): finished with status 'done'\n",
      "  Created wheel for undetected-chromedriver: filename=undetected_chromedriver-3.5.5-py3-none-any.whl size=47130 sha256=834fb3a46c2f26eeaf82c732d2908336c146854a85ca50268dbef8fb93b44cab\n",
      "  Stored in directory: c:\\users\\dia\\appdata\\local\\pip\\cache\\wheels\\c4\\f1\\aa\\9de6cf276210554d91e9c0526864563e850a428c5e76da4914\n",
      "Successfully built undetected-chromedriver\n",
      "Installing collected packages: websockets, undetected-chromedriver\n",
      "Successfully installed undetected-chromedriver-3.5.5 websockets-13.1\n"
     ]
    }
   ],
   "source": [
    "!pip install undetected-chromedriver"
   ]
  },
  {
   "cell_type": "code",
   "execution_count": 20,
   "metadata": {},
   "outputs": [],
   "source": [
    "import undetected_chromedriver as uc\n",
    "\n",
    "driver = uc.Chrome()"
   ]
  },
  {
   "attachments": {
    "84bcdc08-e6e9-4dcd-9759-e8142ba6e98b.png": {
     "image/png": "[encoded data removed]"
    }
   },
   "cell_type": "markdown",
   "metadata": {},
   "source": [
    "![image.png](attachment:84bcdc08-e6e9-4dcd-9759-e8142ba6e98b.png)"
   ]
  },
  {
   "cell_type": "code",
   "execution_count": 27,
   "metadata": {},
   "outputs": [
    {
     "data": {
      "text/plain": [
       "[<undetected_chromedriver.webelement.WebElement (session=\"de33c5ae126cae469848266af66ef527\", element=\"f.4A9F66944F0442EFD40931E99A73AD91.d.0D8AE4A9EB8397ABA7021DE6295837DF.e.776\")>,\n",
       " <undetected_chromedriver.webelement.WebElement (session=\"de33c5ae126cae469848266af66ef527\", element=\"f.4A9F66944F0442EFD40931E99A73AD91.d.0D8AE4A9EB8397ABA7021DE6295837DF.e.779\")>,\n",
       " <undetected_chromedriver.webelement.WebElement (session=\"de33c5ae126cae469848266af66ef527\", element=\"f.4A9F66944F0442EFD40931E99A73AD91.d.0D8AE4A9EB8397ABA7021DE6295837DF.e.782\")>]"
      ]
     },
     "execution_count": 27,
     "metadata": {},
     "output_type": "execute_result"
    }
   ],
   "source": [
    "driver.find_elements(By.CSS_SELECTOR, \"li.navItem\") #위 사진과 같이 사이트에 3개 있어서 3개를 찾은것"
   ]
  },
  {
   "cell_type": "code",
   "execution_count": 33,
   "metadata": {},
   "outputs": [
    {
     "name": "stdout",
     "output_type": "stream",
     "text": [
      "이용정보\n",
      "판매정보\n",
      "기대평246\n"
     ]
    }
   ],
   "source": [
    "for i in driver.find_elements(By.CSS_SELECTOR, \"li.navItem\"):\n",
    "    print(i.text) #알맹이 바로 보기"
   ]
  },
  {
   "cell_type": "code",
   "execution_count": 37,
   "metadata": {},
   "outputs": [],
   "source": [
    "for i in driver.find_elements(By.CSS_SELECTOR, \"li.navItem\"):\n",
    "    if \"기대평\" in i.text:\n",
    "        i.click()"
   ]
  },
  {
   "cell_type": "markdown",
   "metadata": {},
   "source": [
    "### 기대평 1쪽부터 10쪽까지"
   ]
  },
  {
   "cell_type": "code",
   "execution_count": 42,
   "metadata": {},
   "outputs": [
    {
     "name": "stdout",
     "output_type": "stream",
     "text": [
      "1\n",
      "2\n",
      "3\n",
      "4\n",
      "5\n",
      "6\n",
      "7\n",
      "8\n",
      "9\n",
      "10\n"
     ]
    }
   ],
   "source": [
    "for i in driver.find_elements(By.CSS_SELECTOR, \"a.pageNumBtn\"):\n",
    "    print(i.text) "
   ]
  },
  {
   "cell_type": "code",
   "execution_count": 50,
   "metadata": {},
   "outputs": [
    {
     "name": "stdout",
     "output_type": "stream",
     "text": [
      "1\n",
      "2\n",
      "3\n",
      "4\n",
      "5\n",
      "6\n",
      "7\n",
      "8\n",
      "9\n",
      "10\n"
     ]
    }
   ],
   "source": [
    "#답\n",
    "#1~10\n",
    "for i in driver.find_element(By.CSS_SELECTOR, \"ol.pageNumWrap\").find_elements(By.CSS_SELECTOR, \"a.pageNumBtn\"):\n",
    "    print(i.text)\n",
    "    time.sleep(1)"
   ]
  },
  {
   "cell_type": "code",
   "execution_count": 111,
   "metadata": {},
   "outputs": [],
   "source": [
    "#답\n",
    "#1~끝페이지\n",
    "while True:\n",
    "    for i in driver.find_element(By.CSS_SELECTOR, \"ol.pageNumWrap\").find_elements(By.CSS_SELECTOR, \"li\"):\n",
    "        i.click()\n",
    "        time.sleep(1)\n",
    "        \n",
    "    try:\n",
    "        driver.find_element(By.CSS_SELECTOR, \"a.pageNextBtn.pageArrow\").click()\n",
    "        time.sleep(1)\n",
    "    except:\n",
    "        break\n",
    "##공백은 .으로 채우기\n",
    "##다음 페이지로 가는 버튼 눌리는 거"
   ]
  },
  {
   "cell_type": "markdown",
   "metadata": {},
   "source": [
    "### 리뷰 크롤링"
   ]
  },
  {
   "cell_type": "code",
   "execution_count": 103,
   "metadata": {},
   "outputs": [],
   "source": [
    "titles = []\n",
    "dates = []\n",
    "contents = []\n",
    "\n",
    "for i in driver.find_elements(By.CSS_SELECTOR, \"li.bbsItem\"):\n",
    "    title = i.find_element(By.CSS_SELECTOR, \"strong.bbsTitleText\").text\n",
    "    titles.append(title) \n",
    "    content = i.find_element(By.CSS_SELECTOR, \"p.bbsText\").text\n",
    "    contents.append(content) \n",
    "    date = i.find_elements(By.CSS_SELECTOR, \"li.bbsItemInfoList\")[1].text\n",
    "    dates.append(date) "
   ]
  },
  {
   "cell_type": "code",
   "execution_count": 105,
   "metadata": {},
   "outputs": [],
   "source": [
    "data = {\n",
    "    '제목': titles,\n",
    "    '날짜': dates,\n",
    "    '내용': contents\n",
    "}\n",
    "\n",
    "df = pd.DataFrame(data)"
   ]
  },
  {
   "cell_type": "code",
   "execution_count": 107,
   "metadata": {},
   "outputs": [
    {
     "data": {
      "text/html": [
       "<div>\n",
       "<style scoped>\n",
       "    .dataframe tbody tr th:only-of-type {\n",
       "        vertical-align: middle;\n",
       "    }\n",
       "\n",
       "    .dataframe tbody tr th {\n",
       "        vertical-align: top;\n",
       "    }\n",
       "\n",
       "    .dataframe thead th {\n",
       "        text-align: right;\n",
       "    }\n",
       "</style>\n",
       "<table border=\"1\" class=\"dataframe\">\n",
       "  <thead>\n",
       "    <tr style=\"text-align: right;\">\n",
       "      <th></th>\n",
       "      <th>제목</th>\n",
       "      <th>날짜</th>\n",
       "      <th>내용</th>\n",
       "    </tr>\n",
       "  </thead>\n",
       "  <tbody>\n",
       "    <tr>\n",
       "      <th>0</th>\n",
       "      <td>완전 설레임 두근두근~(♡^--^♡)</td>\n",
       "      <td>2024.09.17</td>\n",
       "      <td>시간이가 왜 안가지??\\n빨리 가고 싶어요 헤헿(♡^--^♡)</td>\n",
       "    </tr>\n",
       "    <tr>\n",
       "      <th>1</th>\n",
       "      <td>보고싶다~</td>\n",
       "      <td>2024.09.14</td>\n",
       "      <td>지민이 오늘도 넘보고싶네~\\n기대만땅 전시회!!!</td>\n",
       "    </tr>\n",
       "    <tr>\n",
       "      <th>2</th>\n",
       "      <td>지민아 사랑해</td>\n",
       "      <td>2024.09.13</td>\n",
       "      <td>전시회 가보자구</td>\n",
       "    </tr>\n",
       "    <tr>\n",
       "      <th>3</th>\n",
       "      <td>짐토버</td>\n",
       "      <td>2024.09.13</td>\n",
       "      <td>두근두근 넘 기대된다</td>\n",
       "    </tr>\n",
       "    <tr>\n",
       "      <th>4</th>\n",
       "      <td>지민 전시회 좋아요</td>\n",
       "      <td>2024.09.12</td>\n",
       "      <td>우리 지민이 보고싶다ㅠㅠㅠㅠ 전시회로 나마 만날 수 있어 행복합니다</td>\n",
       "    </tr>\n",
       "    <tr>\n",
       "      <th>5</th>\n",
       "      <td>나무 너무 기대됨</td>\n",
       "      <td>2024.09.12</td>\n",
       "      <td>지민이 전시회 빨리 보고싶다\\n날씨도 딱좋고 기대중</td>\n",
       "    </tr>\n",
       "    <tr>\n",
       "      <th>6</th>\n",
       "      <td>지민이없는지민이생일전시관람</td>\n",
       "      <td>2024.09.12</td>\n",
       "      <td>지민이생일에 전시회에서라도 지민이 볼 수 있어서 행복합니다 :)</td>\n",
       "    </tr>\n",
       "    <tr>\n",
       "      <th>7</th>\n",
       "      <td>기대된다~</td>\n",
       "      <td>2024.09.11</td>\n",
       "      <td>생일 주말은 벌써 매진..\\n아쉽지만 다른 날로 예매완료.\\n지민이 보러 빨리 가고...</td>\n",
       "    </tr>\n",
       "    <tr>\n",
       "      <th>8</th>\n",
       "      <td>JIMIN??</td>\n",
       "      <td>2024.09.11</td>\n",
       "      <td>짐토버에 못가서ㅠ 표를 구할수가 없어서ㅠ 아쉽지만\\n19일이 넘 기대가 된다^^</td>\n",
       "    </tr>\n",
       "    <tr>\n",
       "      <th>9</th>\n",
       "      <td>Jimin??????</td>\n",
       "      <td>2024.09.11</td>\n",
       "      <td>I love you Jimin\\nI look forward to seeing you...</td>\n",
       "    </tr>\n",
       "    <tr>\n",
       "      <th>10</th>\n",
       "      <td>응 박지민</td>\n",
       "      <td>2024.09.11</td>\n",
       "      <td>딱기다려</td>\n",
       "    </tr>\n",
       "    <tr>\n",
       "      <th>11</th>\n",
       "      <td>드뎌 본다</td>\n",
       "      <td>2024.09.11</td>\n",
       "      <td>솔로활동 제대로 보지 못해 아쉬웠는데\\n이렇게라도 볼 수 있다니 넘 기대된다</td>\n",
       "    </tr>\n",
       "    <tr>\n",
       "      <th>12</th>\n",
       "      <td>지민</td>\n",
       "      <td>2024.09.11</td>\n",
       "      <td>너무 기대되네요</td>\n",
       "    </tr>\n",
       "    <tr>\n",
       "      <th>13</th>\n",
       "      <td>지민아♡</td>\n",
       "      <td>2024.09.11</td>\n",
       "      <td>첫날 고고</td>\n",
       "    </tr>\n",
       "    <tr>\n",
       "      <th>14</th>\n",
       "      <td>생일날 예매완료♡ 딱 기둘</td>\n",
       "      <td>2024.09.11</td>\n",
       "      <td>ㅎㅅㅎ♡</td>\n",
       "    </tr>\n",
       "  </tbody>\n",
       "</table>\n",
       "</div>"
      ],
      "text/plain": [
       "                      제목          날짜  \\\n",
       "0   완전 설레임 두근두근~(♡^--^♡)  2024.09.17   \n",
       "1                  보고싶다~  2024.09.14   \n",
       "2                지민아 사랑해  2024.09.13   \n",
       "3                    짐토버  2024.09.13   \n",
       "4             지민 전시회 좋아요  2024.09.12   \n",
       "5              나무 너무 기대됨  2024.09.12   \n",
       "6         지민이없는지민이생일전시관람  2024.09.12   \n",
       "7                  기대된다~  2024.09.11   \n",
       "8                JIMIN??  2024.09.11   \n",
       "9            Jimin??????  2024.09.11   \n",
       "10                 응 박지민  2024.09.11   \n",
       "11                 드뎌 본다  2024.09.11   \n",
       "12                    지민  2024.09.11   \n",
       "13                  지민아♡  2024.09.11   \n",
       "14        생일날 예매완료♡ 딱 기둘  2024.09.11   \n",
       "\n",
       "                                                   내용  \n",
       "0                  시간이가 왜 안가지??\\n빨리 가고 싶어요 헤헿(♡^--^♡)  \n",
       "1                         지민이 오늘도 넘보고싶네~\\n기대만땅 전시회!!!  \n",
       "2                                            전시회 가보자구  \n",
       "3                                         두근두근 넘 기대된다  \n",
       "4               우리 지민이 보고싶다ㅠㅠㅠㅠ 전시회로 나마 만날 수 있어 행복합니다  \n",
       "5                        지민이 전시회 빨리 보고싶다\\n날씨도 딱좋고 기대중  \n",
       "6                 지민이생일에 전시회에서라도 지민이 볼 수 있어서 행복합니다 :)  \n",
       "7   생일 주말은 벌써 매진..\\n아쉽지만 다른 날로 예매완료.\\n지민이 보러 빨리 가고...  \n",
       "8        짐토버에 못가서ㅠ 표를 구할수가 없어서ㅠ 아쉽지만\\n19일이 넘 기대가 된다^^  \n",
       "9   I love you Jimin\\nI look forward to seeing you...  \n",
       "10                                               딱기다려  \n",
       "11         솔로활동 제대로 보지 못해 아쉬웠는데\\n이렇게라도 볼 수 있다니 넘 기대된다  \n",
       "12                                           너무 기대되네요  \n",
       "13                                              첫날 고고  \n",
       "14                                               ㅎㅅㅎ♡  "
      ]
     },
     "execution_count": 107,
     "metadata": {},
     "output_type": "execute_result"
    }
   ],
   "source": [
    "df"
   ]
  },
  {
   "cell_type": "markdown",
   "metadata": {},
   "source": [
    "### 강사님 코드"
   ]
  },
  {
   "cell_type": "code",
   "execution_count": 115,
   "metadata": {},
   "outputs": [],
   "source": [
    "total = []\n",
    "\n",
    "while True:\n",
    "\n",
    "    for i in driver.find_element(By.CSS_SELECTOR, \"ol.pageNumWrap\").find_elements(By.CSS_SELECTOR, \"li\"):\n",
    "        i.click()\n",
    "        time.sleep(1)\n",
    "\n",
    "        for r in driver.find_elements(By.CSS_SELECTOR, \"li.bbsItem\"):\n",
    "            title = (r.find_element(By.CSS_SELECTOR, \"strong.bbsTitleText\").text)\n",
    "            content = (r.find_element(By.CSS_SELECTOR, \"p.bbsText\").text.strip())\n",
    "            date = (r.find_elements(By.CSS_SELECTOR, \"li.bbsItemInfoList\")[1].text.strip())\n",
    "            total.append([title, date, content])\n",
    "    try:\n",
    "        driver.find_element(By.CSS_SELECTOR, \"a.pageNextBtn.pageArrow\").click()\n",
    "        time.sleep(1)\n",
    "    except:\n",
    "        break"
   ]
  },
  {
   "cell_type": "code",
   "execution_count": 116,
   "metadata": {},
   "outputs": [
    {
     "data": {
      "text/plain": [
       "96"
      ]
     },
     "execution_count": 116,
     "metadata": {},
     "output_type": "execute_result"
    }
   ],
   "source": [
    "len(total)"
   ]
  },
  {
   "cell_type": "code",
   "execution_count": 119,
   "metadata": {},
   "outputs": [
    {
     "data": {
      "text/html": [
       "<div>\n",
       "<style scoped>\n",
       "    .dataframe tbody tr th:only-of-type {\n",
       "        vertical-align: middle;\n",
       "    }\n",
       "\n",
       "    .dataframe tbody tr th {\n",
       "        vertical-align: top;\n",
       "    }\n",
       "\n",
       "    .dataframe thead th {\n",
       "        text-align: right;\n",
       "    }\n",
       "</style>\n",
       "<table border=\"1\" class=\"dataframe\">\n",
       "  <thead>\n",
       "    <tr style=\"text-align: right;\">\n",
       "      <th></th>\n",
       "      <th>제목</th>\n",
       "      <th>날짜</th>\n",
       "      <th>내용</th>\n",
       "    </tr>\n",
       "  </thead>\n",
       "  <tbody>\n",
       "    <tr>\n",
       "      <th>0</th>\n",
       "      <td>너무 기대합니다</td>\n",
       "      <td>2024.09.10</td>\n",
       "      <td>빨리 가서 보고싶다??</td>\n",
       "    </tr>\n",
       "    <tr>\n",
       "      <th>1</th>\n",
       "      <td>설레설레</td>\n",
       "      <td>2024.09.10</td>\n",
       "      <td>지민아 기둘려~~~~~~~</td>\n",
       "    </tr>\n",
       "    <tr>\n",
       "      <th>2</th>\n",
       "      <td>지민이를 만나러 가는 길</td>\n",
       "      <td>2024.09.10</td>\n",
       "      <td>평범했던 명동가는 길이 넘 기대된다\\n곧 만나자</td>\n",
       "    </tr>\n",
       "    <tr>\n",
       "      <th>3</th>\n",
       "      <td>도키도키</td>\n",
       "      <td>2024.09.10</td>\n",
       "      <td>어떤공간일지 너무설레요 &gt;&lt; 빨리보고싶은 지민전시회</td>\n",
       "    </tr>\n",
       "    <tr>\n",
       "      <th>4</th>\n",
       "      <td>고마워 지민아</td>\n",
       "      <td>2024.09.10</td>\n",
       "      <td>군입대하기전 선물 보따리를 주고 가서 하나씩 열어보며 지민이랑 다시 만날 날을 기다...</td>\n",
       "    </tr>\n",
       "    <tr>\n",
       "      <th>...</th>\n",
       "      <td>...</td>\n",
       "      <td>...</td>\n",
       "      <td>...</td>\n",
       "    </tr>\n",
       "    <tr>\n",
       "      <th>91</th>\n",
       "      <td>기다렸어요</td>\n",
       "      <td>2024.09.09</td>\n",
       "      <td>지민의 흔적을 볼수있다니♡</td>\n",
       "    </tr>\n",
       "    <tr>\n",
       "      <th>92</th>\n",
       "      <td>두근두근</td>\n",
       "      <td>2024.09.09</td>\n",
       "      <td>기대 기대\\n지민 전시</td>\n",
       "    </tr>\n",
       "    <tr>\n",
       "      <th>93</th>\n",
       "      <td>드디어 우리 지민이 전시회가!!</td>\n",
       "      <td>2024.09.09</td>\n",
       "      <td>벌써부터 넘넘 기대됩니다 두근두근??</td>\n",
       "    </tr>\n",
       "    <tr>\n",
       "      <th>94</th>\n",
       "      <td>우리 지민이 너무 기대됨</td>\n",
       "      <td>2024.09.09</td>\n",
       "      <td>꼭 예매 성공해야지!</td>\n",
       "    </tr>\n",
       "    <tr>\n",
       "      <th>95</th>\n",
       "      <td>너무 기다린 전시</td>\n",
       "      <td>2024.09.09</td>\n",
       "      <td>ㅜㅜ 빨리 가보고 싶네요</td>\n",
       "    </tr>\n",
       "  </tbody>\n",
       "</table>\n",
       "<p>96 rows × 3 columns</p>\n",
       "</div>"
      ],
      "text/plain": [
       "                   제목          날짜  \\\n",
       "0            너무 기대합니다  2024.09.10   \n",
       "1                설레설레  2024.09.10   \n",
       "2       지민이를 만나러 가는 길  2024.09.10   \n",
       "3                도키도키  2024.09.10   \n",
       "4             고마워 지민아  2024.09.10   \n",
       "..                ...         ...   \n",
       "91              기다렸어요  2024.09.09   \n",
       "92               두근두근  2024.09.09   \n",
       "93  드디어 우리 지민이 전시회가!!  2024.09.09   \n",
       "94      우리 지민이 너무 기대됨  2024.09.09   \n",
       "95          너무 기다린 전시  2024.09.09   \n",
       "\n",
       "                                                   내용  \n",
       "0                                        빨리 가서 보고싶다??  \n",
       "1                                      지민아 기둘려~~~~~~~  \n",
       "2                          평범했던 명동가는 길이 넘 기대된다\\n곧 만나자  \n",
       "3                        어떤공간일지 너무설레요 >< 빨리보고싶은 지민전시회  \n",
       "4   군입대하기전 선물 보따리를 주고 가서 하나씩 열어보며 지민이랑 다시 만날 날을 기다...  \n",
       "..                                                ...  \n",
       "91                                     지민의 흔적을 볼수있다니♡  \n",
       "92                                       기대 기대\\n지민 전시  \n",
       "93                               벌써부터 넘넘 기대됩니다 두근두근??  \n",
       "94                                        꼭 예매 성공해야지!  \n",
       "95                                      ㅜㅜ 빨리 가보고 싶네요  \n",
       "\n",
       "[96 rows x 3 columns]"
      ]
     },
     "execution_count": 119,
     "metadata": {},
     "output_type": "execute_result"
    }
   ],
   "source": [
    "import pandas as pd\n",
    "\n",
    "pd.DataFrame(total, columns = [\"제목\",\"날짜\", \"내용\"])"
   ]
  },
  {
   "cell_type": "code",
   "execution_count": null,
   "metadata": {},
   "outputs": [],
   "source": []
  }
 ],
 "metadata": {
  "colab": {
   "provenance": []
  },
  "kernelspec": {
   "display_name": "Python 3 (ipykernel)",
   "language": "python",
   "name": "python3"
  },
  "language_info": {
   "codemirror_mode": {
    "name": "ipython",
    "version": 3
   },
   "file_extension": ".py",
   "mimetype": "text/x-python",
   "name": "python",
   "nbconvert_exporter": "python",
   "pygments_lexer": "ipython3",
   "version": "3.12.4"
  }
 },
 "nbformat": 4,
 "nbformat_minor": 4
}
