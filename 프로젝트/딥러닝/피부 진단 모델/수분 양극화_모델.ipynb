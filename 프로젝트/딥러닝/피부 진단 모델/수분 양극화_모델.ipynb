{
  "nbformat": 4,
  "nbformat_minor": 0,
  "metadata": {
    "colab": {
      "provenance": []
    },
    "kernelspec": {
      "name": "python3",
      "display_name": "Python 3"
    },
    "language_info": {
      "name": "python"
    }
  },
  "cells": [
    {
      "cell_type": "code",
      "execution_count": null,
      "metadata": {
        "colab": {
          "base_uri": "https://localhost:8080/"
        },
        "id": "VaX9bDq77cQM",
        "outputId": "6319e2bd-ab87-447b-ba86-a3670418233d"
      },
      "outputs": [
        {
          "output_type": "stream",
          "name": "stdout",
          "text": [
            "'/content/찐막.zip' 파일을 찾았습니다.\n",
            "'/content/uploadfolder' 폴더를 생성했습니다.\n",
            "'/content/찐막.zip' 압축을 '/content/uploadfolder'에 성공적으로 해제했습니다.\n"
          ]
        }
      ],
      "source": [
        "import zipfile\n",
        "import os\n",
        "\n",
        "# 압축 파일 경로 및 해제할 폴더 경로 설정\n",
        "zip_file_path = '/content/찐막.zip'\n",
        "extract_dir = '/content/uploadfolder'  # 압축 해제할 폴더 경로\n",
        "\n",
        "# 압축 파일이 존재하는지 확인\n",
        "if os.path.exists(zip_file_path):\n",
        "    print(f\"'{zip_file_path}' 파일을 찾았습니다.\")\n",
        "\n",
        "    # 압축을 풀 폴더가 없으면 생성\n",
        "    if not os.path.exists(extract_dir):\n",
        "        os.makedirs(extract_dir)\n",
        "        print(f\"'{extract_dir}' 폴더를 생성했습니다.\")\n",
        "\n",
        "    # zipfile 라이브러리를 사용하여 압축 해제\n",
        "    with zipfile.ZipFile(zip_file_path, 'r') as zip_ref:\n",
        "        zip_ref.extractall(extract_dir)\n",
        "        print(f\"'{zip_file_path}' 압축을 '{extract_dir}'에 성공적으로 해제했습니다.\")\n",
        "else:\n",
        "    print(f\"'{zip_file_path}' 파일을 찾을 수 없습니다. 경로를 확인하세요.\")"
      ]
    },
    {
      "cell_type": "code",
      "source": [
        "import os\n",
        "import torch\n",
        "import torchvision.models as models\n",
        "import torchvision.transforms as T\n",
        "from torch.utils.data import Dataset, DataLoader, WeightedRandomSampler\n",
        "from PIL import Image\n",
        "from tqdm import tqdm\n",
        "import torch.nn as nn\n",
        "from collections import Counter\n",
        "\n",
        "# Custom dataset\n",
        "class CustomDataset(Dataset):\n",
        "    def __init__(self, root_dir, transform=None):\n",
        "        self.root_dir = root_dir\n",
        "        self.transform = transform\n",
        "        self.classes = os.listdir(root_dir)\n",
        "        self.data = []\n",
        "\n",
        "        for label in range(len(self.classes)):\n",
        "            class_folder = os.path.join(root_dir, self.classes[label])\n",
        "            for filename in os.listdir(class_folder):\n",
        "                img_path = os.path.join(class_folder, filename)\n",
        "                self.data.append((img_path, label))\n",
        "\n",
        "    def __len__(self):\n",
        "        return len(self.data)\n",
        "\n",
        "    def __getitem__(self, idx):\n",
        "        img_path, label = self.data[idx]\n",
        "        image = Image.open(img_path).convert('RGB')  # 이미지 RGB로 변환\n",
        "        if self.transform:\n",
        "            image = self.transform(image)\n",
        "        return image, label\n",
        "\n",
        "# 경로 및 배치 크기 설정\n",
        "base_dir = './uploadfolder'  # 베이스 경로 (압축을 푼 폴더 경로)\n",
        "batch_size = 16\n",
        "\n",
        "# 통합된 train 및 valid 폴더 경로 설정\n",
        "train_dir = os.path.join(base_dir, '찐막', 'train')\n",
        "valid_dir = os.path.join(base_dir, '찐막', 'valid')\n",
        "\n",
        "# 데이터 증강 포함한 이미지 전처리\n",
        "transform = T.Compose([\n",
        "    T.Resize((224, 224)),\n",
        "    T.RandomHorizontalFlip(),\n",
        "    T.RandomRotation(15),  # 더 큰 회전 각도\n",
        "    T.RandomAffine(degrees=0, translate=(0.1, 0.1)),  # 이미지 이동\n",
        "    T.GaussianBlur(kernel_size=3),  # Gaussian Blur 추가\n",
        "    T.ToTensor(),\n",
        "    T.Normalize(mean=[0.485, 0.456, 0.406], std=[0.229, 0.224, 0.225])\n",
        "])\n",
        "\n",
        "# 학습 및 검증 데이터셋 생성\n",
        "train_dataset = CustomDataset(train_dir, transform=transform)\n",
        "valid_dataset = CustomDataset(valid_dir, transform=transform)\n",
        "\n",
        "# train 데이터셋이 비어있는지 확인\n",
        "if len(train_dataset) == 0:\n",
        "    raise ValueError(\"Train dataset is empty. Check if the images are correctly loaded.\")\n",
        "\n",
        "# 각 클래스의 데이터 개수 계산 (Counter 사용)\n",
        "class_counts = Counter([label for _, label in train_dataset])\n",
        "\n",
        "# 클래스별로 가중치를 부여 (데이터 개수의 역수 사용)\n",
        "class_weights = {cls: 1.0 / count for cls, count in class_counts.items()}\n",
        "\n",
        "# 각 샘플의 가중치를 리스트로 변환\n",
        "sample_weights = [class_weights[label] for _, label in train_dataset]\n",
        "\n",
        "# 샘플 가중치가 비어있는지 확인\n",
        "if len(sample_weights) == 0:\n",
        "    raise ValueError(\"Sample weights are empty. Check the dataset loading process.\")\n",
        "\n",
        "# WeightedRandomSampler 생성\n",
        "sampler = WeightedRandomSampler(weights=sample_weights, num_samples=len(sample_weights), replacement=True)\n",
        "\n",
        "# WeightedRandomSampler를 적용한 DataLoader\n",
        "train_loader = DataLoader(train_dataset, batch_size=batch_size, sampler=sampler)\n",
        "valid_loader = DataLoader(valid_dataset, batch_size=batch_size, shuffle=False)\n",
        "\n",
        "# 사전 학습된 resnext50_32x4d 모델 사용\n",
        "from torchvision.models import ResNeXt50_32X4D_Weights\n",
        "\n",
        "weights = ResNeXt50_32X4D_Weights.DEFAULT\n",
        "model = models.resnext50_32x4d(weights=weights)\n",
        "\n",
        "# 모든 레이어 학습 가능하도록 설정 (전이 학습 제외)\n",
        "for param in model.parameters():\n",
        "    param.requires_grad = True\n",
        "\n",
        "# 출력 레이어를 분류하려는 클래스 수에 맞게 수정 (드롭아웃 비율 0.3으로 설정)\n",
        "model.fc = nn.Sequential(\n",
        "    nn.Dropout(0.3),  # Dropout 비율을 0.3으로 조정\n",
        "    nn.Linear(model.fc.in_features, len(train_dataset.classes))\n",
        ")\n",
        "\n",
        "device = torch.device(\"cuda\" if torch.cuda.is_available() else \"cpu\")\n",
        "model.to(device)\n",
        "\n",
        "# Early Stopping 설정\n",
        "best_accuracy = 0\n",
        "patience = 5  # 개선되지 않는 에포크를 허용하는 최대 수\n",
        "counter = 0\n",
        "\n",
        "# 손실 함수 및 AdamW 옵티마이저 설정 (학습률 0.0001로 감소)\n",
        "criterion = torch.nn.CrossEntropyLoss()\n",
        "optimizer = torch.optim.AdamW(model.parameters(), lr=0.0001)\n",
        "\n",
        "# 학습률 스케줄러 추가 (학습률 점진적 감소, gamma=0.5, step_size=10)\n",
        "scheduler = torch.optim.lr_scheduler.StepLR(optimizer, step_size=10, gamma=0.5)\n",
        "\n",
        "# 학습 과정 (TQDM으로 진행 상황 시각화, 에포크 30)\n",
        "num_epochs = 30\n",
        "for epoch in range(num_epochs):\n",
        "    model.train()\n",
        "    running_loss = 0.0\n",
        "    correct_train = 0\n",
        "    total_train = 0\n",
        "\n",
        "    # TQDM으로 학습 진행 표시\n",
        "    train_loader_iter = tqdm(train_loader, desc=f\"Epoch {epoch+1}/{num_epochs}\")\n",
        "\n",
        "    for images, labels in train_loader_iter:\n",
        "        images, labels = images.to(device), labels.to(device)\n",
        "        optimizer.zero_grad()\n",
        "        outputs = model(images)\n",
        "        loss = criterion(outputs, labels)\n",
        "        loss.backward()\n",
        "        optimizer.step()\n",
        "\n",
        "        running_loss += loss.item()\n",
        "        _, predicted = torch.max(outputs, 1)\n",
        "        total_train += labels.size(0)\n",
        "        correct_train += (predicted == labels).sum().item()\n",
        "\n",
        "        train_loader_iter.set_postfix(loss=running_loss / len(train_loader))\n",
        "\n",
        "    train_accuracy = 100 * correct_train / total_train\n",
        "    print(f\"Epoch {epoch+1}/{num_epochs}, Loss: {running_loss/len(train_loader)}, Train Accuracy: {train_accuracy}%\")\n",
        "\n",
        "    # 학습률 스케줄러 업데이트\n",
        "    scheduler.step()\n",
        "\n",
        "    # 검증 평가\n",
        "    model.eval()\n",
        "    correct_valid = 0\n",
        "    total_valid = 0\n",
        "    with torch.no_grad():\n",
        "        for images, labels in valid_loader:\n",
        "            images, labels = images.to(device), labels.to(device)\n",
        "            outputs = model(images)\n",
        "            _, predicted = torch.max(outputs, 1)\n",
        "            total_valid += labels.size(0)\n",
        "            correct_valid += (predicted == labels).sum().item()\n",
        "\n",
        "    valid_accuracy = 100 * correct_valid / total_valid\n",
        "    print(f'Validation Accuracy: {valid_accuracy}%')\n",
        "\n",
        "    # Early Stopping 기준\n",
        "    if valid_accuracy > best_accuracy:\n",
        "        best_accuracy = valid_accuracy\n",
        "        counter = 0  # 성능 개선 시 카운터 초기화\n",
        "        torch.save(model.state_dict(), 'best_model.pth')  # 최적의 모델 저장\n",
        "    else:\n",
        "        counter += 1\n",
        "        if counter >= patience:\n",
        "            print(\"Early stopping 적용\")\n",
        "            break\n"
      ],
      "metadata": {
        "colab": {
          "base_uri": "https://localhost:8080/"
        },
        "id": "jtoppOjE7vgk",
        "outputId": "56bac2c2-e0f0-442c-a367-1d356cfe3ff8"
      },
      "execution_count": null,
      "outputs": [
        {
          "output_type": "stream",
          "name": "stderr",
          "text": [
            "Downloading: \"https://download.pytorch.org/models/resnext50_32x4d-1a0047aa.pth\" to /root/.cache/torch/hub/checkpoints/resnext50_32x4d-1a0047aa.pth\n",
            "100%|██████████| 95.8M/95.8M [00:00<00:00, 163MB/s]\n",
            "Epoch 1/30: 100%|██████████| 25/25 [04:34<00:00, 10.98s/it, loss=0.628]\n"
          ]
        },
        {
          "output_type": "stream",
          "name": "stdout",
          "text": [
            "Epoch 1/30, Loss: 0.6281898951530457, Train Accuracy: 65.80976863753213%\n",
            "Validation Accuracy: 61.72839506172839%\n"
          ]
        },
        {
          "output_type": "stream",
          "name": "stderr",
          "text": [
            "Epoch 2/30: 100%|██████████| 25/25 [04:15<00:00, 10.24s/it, loss=0.494]\n"
          ]
        },
        {
          "output_type": "stream",
          "name": "stdout",
          "text": [
            "Epoch 2/30, Loss: 0.4935920667648315, Train Accuracy: 81.49100257069409%\n",
            "Validation Accuracy: 67.90123456790124%\n"
          ]
        },
        {
          "output_type": "stream",
          "name": "stderr",
          "text": [
            "Epoch 3/30: 100%|██████████| 25/25 [04:14<00:00, 10.19s/it, loss=0.373]\n"
          ]
        },
        {
          "output_type": "stream",
          "name": "stdout",
          "text": [
            "Epoch 3/30, Loss: 0.372517032623291, Train Accuracy: 86.11825192802057%\n",
            "Validation Accuracy: 70.37037037037037%\n"
          ]
        },
        {
          "output_type": "stream",
          "name": "stderr",
          "text": [
            "Epoch 4/30: 100%|██████████| 25/25 [04:14<00:00, 10.17s/it, loss=0.351]\n"
          ]
        },
        {
          "output_type": "stream",
          "name": "stdout",
          "text": [
            "Epoch 4/30, Loss: 0.35121143341064454, Train Accuracy: 83.80462724935732%\n",
            "Validation Accuracy: 74.07407407407408%\n"
          ]
        },
        {
          "output_type": "stream",
          "name": "stderr",
          "text": [
            "Epoch 5/30: 100%|██████████| 25/25 [04:14<00:00, 10.20s/it, loss=0.237]\n"
          ]
        },
        {
          "output_type": "stream",
          "name": "stdout",
          "text": [
            "Epoch 5/30, Loss: 0.2366143596172333, Train Accuracy: 90.74550128534705%\n",
            "Validation Accuracy: 74.07407407407408%\n"
          ]
        },
        {
          "output_type": "stream",
          "name": "stderr",
          "text": [
            "Epoch 6/30: 100%|██████████| 25/25 [04:14<00:00, 10.18s/it, loss=0.252]\n"
          ]
        },
        {
          "output_type": "stream",
          "name": "stdout",
          "text": [
            "Epoch 6/30, Loss: 0.25178828299045564, Train Accuracy: 92.2879177377892%\n",
            "Validation Accuracy: 80.24691358024691%\n"
          ]
        },
        {
          "output_type": "stream",
          "name": "stderr",
          "text": [
            "Epoch 7/30: 100%|██████████| 25/25 [04:14<00:00, 10.18s/it, loss=0.155]\n"
          ]
        },
        {
          "output_type": "stream",
          "name": "stdout",
          "text": [
            "Epoch 7/30, Loss: 0.15467578411102295, Train Accuracy: 95.62982005141389%\n",
            "Validation Accuracy: 70.37037037037037%\n"
          ]
        },
        {
          "output_type": "stream",
          "name": "stderr",
          "text": [
            "Epoch 8/30: 100%|██████████| 25/25 [04:14<00:00, 10.19s/it, loss=0.175]\n"
          ]
        },
        {
          "output_type": "stream",
          "name": "stdout",
          "text": [
            "Epoch 8/30, Loss: 0.17509734980762004, Train Accuracy: 92.80205655526993%\n",
            "Validation Accuracy: 83.95061728395062%\n"
          ]
        },
        {
          "output_type": "stream",
          "name": "stderr",
          "text": [
            "Epoch 9/30: 100%|██████████| 25/25 [04:14<00:00, 10.18s/it, loss=0.147]\n"
          ]
        },
        {
          "output_type": "stream",
          "name": "stdout",
          "text": [
            "Epoch 9/30, Loss: 0.14662971943616868, Train Accuracy: 95.11568123393316%\n",
            "Validation Accuracy: 82.71604938271605%\n"
          ]
        },
        {
          "output_type": "stream",
          "name": "stderr",
          "text": [
            "Epoch 10/30: 100%|██████████| 25/25 [04:14<00:00, 10.20s/it, loss=0.132]\n"
          ]
        },
        {
          "output_type": "stream",
          "name": "stdout",
          "text": [
            "Epoch 10/30, Loss: 0.132050226777792, Train Accuracy: 96.1439588688946%\n",
            "Validation Accuracy: 72.8395061728395%\n"
          ]
        },
        {
          "output_type": "stream",
          "name": "stderr",
          "text": [
            "Epoch 11/30: 100%|██████████| 25/25 [04:15<00:00, 10.20s/it, loss=0.078]\n"
          ]
        },
        {
          "output_type": "stream",
          "name": "stdout",
          "text": [
            "Epoch 11/30, Loss: 0.07799242924898862, Train Accuracy: 97.4293059125964%\n",
            "Validation Accuracy: 80.24691358024691%\n"
          ]
        },
        {
          "output_type": "stream",
          "name": "stderr",
          "text": [
            "Epoch 12/30: 100%|██████████| 25/25 [04:14<00:00, 10.16s/it, loss=0.096]\n"
          ]
        },
        {
          "output_type": "stream",
          "name": "stdout",
          "text": [
            "Epoch 12/30, Loss: 0.09595256138592959, Train Accuracy: 96.91516709511568%\n",
            "Validation Accuracy: 81.48148148148148%\n"
          ]
        },
        {
          "output_type": "stream",
          "name": "stderr",
          "text": [
            "Epoch 13/30: 100%|██████████| 25/25 [04:14<00:00, 10.18s/it, loss=0.0813]\n"
          ]
        },
        {
          "output_type": "stream",
          "name": "stdout",
          "text": [
            "Epoch 13/30, Loss: 0.08129486303776502, Train Accuracy: 97.17223650385604%\n",
            "Validation Accuracy: 76.54320987654322%\n",
            "Early stopping 적용\n"
          ]
        }
      ]
    },
    {
      "cell_type": "code",
      "source": [
        "import torch\n",
        "import numpy as np\n",
        "from sklearn.metrics import confusion_matrix\n",
        "import matplotlib.pyplot as plt\n",
        "import seaborn as sns\n",
        "\n",
        "# 모델이 예측한 결과와 실제 라벨을 기반으로 혼동 행렬 계산\n",
        "def calculate_confusion_matrix(model, dataloader, device):\n",
        "    model.eval()  # 평가 모드로 전환\n",
        "    true_labels = []\n",
        "    pred_labels = []\n",
        "\n",
        "    with torch.no_grad():  # 그래디언트 계산 비활성화 (추론 모드)\n",
        "        for images, labels in dataloader:\n",
        "            images, labels = images.to(device), labels.to(device)\n",
        "            outputs = model(images)\n",
        "            _, predicted = torch.max(outputs, 1)\n",
        "            true_labels.extend(labels.cpu().numpy())  # 실제 라벨\n",
        "            pred_labels.extend(predicted.cpu().numpy())  # 예측된 라벨\n",
        "\n",
        "    # 혼동 행렬 계산\n",
        "    cm = confusion_matrix(true_labels, pred_labels)\n",
        "    return cm\n",
        "\n",
        "# 혼동 행렬 시각화\n",
        "def plot_confusion_matrix(cm, class_names):\n",
        "    plt.figure(figsize=(8, 6))\n",
        "    sns.heatmap(cm, annot=True, fmt='d', cmap='Blues', xticklabels=class_names, yticklabels=class_names)\n",
        "    plt.xlabel('Predicted')\n",
        "    plt.ylabel('True')\n",
        "    plt.title('Confusion Matrix')\n",
        "    plt.show()\n",
        "\n",
        "# 예시: 모델 평가 및 혼동 행렬 계산\n",
        "cm = calculate_confusion_matrix(model, valid_loader, device)\n",
        "\n",
        "# 클래스 이름 예시 (0, 1로 구분되는 경우)\n",
        "class_names = ['0', '1']\n",
        "\n",
        "# 혼동 행렬 시각화\n",
        "plot_confusion_matrix(cm, class_names)\n"
      ],
      "metadata": {
        "colab": {
          "base_uri": "https://localhost:8080/",
          "height": 564
        },
        "id": "czj4X69f8RNV",
        "outputId": "b3ee2be3-d63f-411d-fced-fb101e57f45b"
      },
      "execution_count": null,
      "outputs": [
        {
          "output_type": "display_data",
          "data": {
            "text/plain": [
              "<Figure size 800x600 with 2 Axes>"
            ],
            "image/png": "[encoded data removed]"
          },
          "metadata": {}
        }
      ]
    },
    {
      "cell_type": "code",
      "source": [
        "import os\n",
        "import torch\n",
        "import torchvision.models as models\n",
        "import torchvision.transforms as T\n",
        "from torch.utils.data import Dataset, DataLoader, WeightedRandomSampler\n",
        "from PIL import Image\n",
        "from tqdm import tqdm\n",
        "import torch.nn as nn\n",
        "import torch.nn.functional as F  # 이 부분을 추가\n",
        "\n",
        "from collections import Counter\n",
        "\n",
        "# Custom dataset\n",
        "class CustomDataset(Dataset):\n",
        "    def __init__(self, root_dir, transform=None):\n",
        "        self.root_dir = root_dir\n",
        "        self.transform = transform\n",
        "        self.classes = os.listdir(root_dir)\n",
        "        self.data = []\n",
        "\n",
        "        for label in range(len(self.classes)):\n",
        "            class_folder = os.path.join(root_dir, self.classes[label])\n",
        "            for filename in os.listdir(class_folder):\n",
        "                img_path = os.path.join(class_folder, filename)\n",
        "                self.data.append((img_path, label))\n",
        "\n",
        "    def __len__(self):\n",
        "        return len(self.data)\n",
        "\n",
        "    def __getitem__(self, idx):\n",
        "        img_path, label = self.data[idx]\n",
        "        image = Image.open(img_path).convert('RGB')  # 이미지 RGB로 변환\n",
        "        if self.transform:\n",
        "            image = self.transform(image)\n",
        "        return image, label\n",
        "\n",
        "# Focal Loss 함수 정의\n",
        "class FocalLoss(nn.Module):\n",
        "    def __init__(self, alpha=1, gamma=2, reduction='mean'):\n",
        "        super(FocalLoss, self).__init__()\n",
        "        self.alpha = alpha\n",
        "        self.gamma = gamma\n",
        "        self.reduction = reduction\n",
        "\n",
        "    def forward(self, inputs, targets):\n",
        "        BCE_loss = F.cross_entropy(inputs, targets, reduction='none')  # torch.nn.functional에서 가져오는 cross_entropy\n",
        "        pt = torch.exp(-BCE_loss)  # 예측 확률\n",
        "        F_loss = self.alpha * (1 - pt) ** self.gamma * BCE_loss\n",
        "\n",
        "        if self.reduction == 'mean':\n",
        "            return F_loss.mean()\n",
        "        elif self.reduction == 'sum':\n",
        "            return F_loss.sum()\n",
        "        else:\n",
        "            return F_loss\n",
        "\n",
        "# 경로 및 배치 크기 설정\n",
        "base_dir = './uploadfolder'  # 베이스 경로 (압축을 푼 폴더 경로)\n",
        "batch_size = 16\n",
        "\n",
        "# 통합된 train 및 valid 폴더 경로 설정\n",
        "train_dir = os.path.join(base_dir, '찐막', 'train')\n",
        "valid_dir = os.path.join(base_dir, '찐막', 'valid')\n",
        "\n",
        "# 데이터 증강 포함한 이미지 전처리\n",
        "transform = T.Compose([\n",
        "    T.Resize((224, 224)),\n",
        "    T.RandomHorizontalFlip(),\n",
        "    T.RandomRotation(15),\n",
        "    T.RandomAffine(degrees=0, translate=(0.1, 0.1)),  # 이미지 이동\n",
        "    T.GaussianBlur(kernel_size=3),  # Gaussian Blur 추가\n",
        "    T.ToTensor(),\n",
        "    T.Normalize(mean=[0.485, 0.456, 0.406], std=[0.229, 0.224, 0.225])\n",
        "])\n",
        "\n",
        "# 학습 및 검증 데이터셋 생성\n",
        "train_dataset = CustomDataset(train_dir, transform=transform)\n",
        "valid_dataset = CustomDataset(valid_dir, transform=transform)\n",
        "\n",
        "# train 데이터셋이 비어있는지 확인\n",
        "if len(train_dataset) == 0:\n",
        "    raise ValueError(\"Train dataset is empty. Check if the images are correctly loaded.\")\n",
        "\n",
        "# 각 클래스의 데이터 개수 계산 (Counter 사용)\n",
        "class_counts = Counter([label for _, label in train_dataset])\n",
        "\n",
        "# 클래스별로 가중치를 부여 (데이터 개수의 역수 사용)\n",
        "class_weights = {cls: 1.0 / count for cls, count in class_counts.items()}\n",
        "sample_weights = [class_weights[label] for _, label in train_dataset]\n",
        "\n",
        "# WeightedRandomSampler 생성\n",
        "sampler = WeightedRandomSampler(weights=sample_weights, num_samples=len(sample_weights), replacement=True)\n",
        "\n",
        "# WeightedRandomSampler를 적용한 DataLoader\n",
        "train_loader = DataLoader(train_dataset, batch_size=batch_size, sampler=sampler)\n",
        "valid_loader = DataLoader(valid_dataset, batch_size=batch_size, shuffle=False)\n",
        "\n",
        "# 사전 학습된 resnext50_32x4d 모델 사용\n",
        "from torchvision.models import ResNeXt50_32X4D_Weights\n",
        "weights = ResNeXt50_32X4D_Weights.DEFAULT\n",
        "model = models.resnext50_32x4d(weights=weights)\n",
        "\n",
        "# 모든 레이어 학습 가능하도록 설정\n",
        "for param in model.parameters():\n",
        "    param.requires_grad = True\n",
        "\n",
        "# 출력 레이어를 분류하려는 클래스 수에 맞게 수정\n",
        "model.fc = nn.Sequential(\n",
        "    nn.Dropout(0.3),\n",
        "    nn.Linear(model.fc.in_features, len(train_dataset.classes))\n",
        ")\n",
        "\n",
        "device = torch.device(\"cuda\" if torch.cuda.is_available() else \"cpu\")\n",
        "model.to(device)\n",
        "\n",
        "# Focal Loss 적용\n",
        "criterion = FocalLoss(alpha=1, gamma=2)\n",
        "\n",
        "# 손실 함수 및 AdamW 옵티마이저 설정 (학습률 0.0001로 감소)\n",
        "optimizer = torch.optim.AdamW(model.parameters(), lr=0.0001)\n",
        "\n",
        "# 학습 과정\n",
        "num_epochs = 30\n",
        "for epoch in range(num_epochs):\n",
        "    model.train()\n",
        "    running_loss = 0.0\n",
        "    correct_train = 0\n",
        "    total_train = 0\n",
        "\n",
        "    # TQDM으로 학습 진행 표시\n",
        "    train_loader_iter = tqdm(train_loader, desc=f\"Epoch {epoch+1}/{num_epochs}\")\n",
        "\n",
        "    for images, labels in train_loader_iter:\n",
        "        images, labels = images.to(device), labels.to(device)\n",
        "        optimizer.zero_grad()\n",
        "        outputs = model(images)\n",
        "        loss = criterion(outputs, labels)\n",
        "        loss.backward()\n",
        "        optimizer.step()\n",
        "\n",
        "        running_loss += loss.item()\n",
        "        _, predicted = torch.max(outputs, 1)\n",
        "        total_train += labels.size(0)\n",
        "        correct_train += (predicted == labels).sum().item()\n",
        "\n",
        "        train_loader_iter.set_postfix(loss=running_loss / len(train_loader))\n",
        "\n",
        "    train_accuracy = 100 * correct_train / total_train\n",
        "    print(f\"Epoch {epoch+1}/{num_epochs}, Loss: {running_loss/len(train_loader)}, Train Accuracy: {train_accuracy}%\")\n",
        "\n",
        "    # 검증 평가\n",
        "    model.eval()\n",
        "    correct_valid = 0\n",
        "    total_valid = 0\n",
        "    with torch.no_grad():\n",
        "        for images, labels in valid_loader:\n",
        "            images, labels = images.to(device), labels.to(device)\n",
        "            outputs = model(images)\n",
        "            _, predicted = torch.max(outputs, 1)\n",
        "            total_valid += labels.size(0)\n",
        "            correct_valid += (predicted == labels).sum().item()\n",
        "\n",
        "    valid_accuracy = 100 * correct_valid / total_valid\n",
        "    print(f'Validation Accuracy: {valid_accuracy}%')\n",
        "\n",
        "    # Early Stopping 기준\n",
        "    if valid_accuracy > best_accuracy:\n",
        "        best_accuracy = valid_accuracy\n",
        "        torch.save(model.state_dict(), 'best_model.pth')  # 최적의 모델 저장\n",
        "    else:\n",
        "        counter += 1\n",
        "        if counter >= 5:\n",
        "            print(\"Early stopping 적용\")\n",
        "            break\n"
      ],
      "metadata": {
        "colab": {
          "base_uri": "https://localhost:8080/"
        },
        "id": "3PBd5SQ6Ljvm",
        "outputId": "81ff8664-b29e-4642-d466-67b974956fc3"
      },
      "execution_count": null,
      "outputs": [
        {
          "output_type": "stream",
          "name": "stderr",
          "text": [
            "Epoch 1/30: 100%|██████████| 25/25 [04:37<00:00, 11.08s/it, loss=0.169]\n"
          ]
        },
        {
          "output_type": "stream",
          "name": "stdout",
          "text": [
            "Epoch 1/30, Loss: 0.16943849623203278, Train Accuracy: 62.98200514138817%\n",
            "Validation Accuracy: 64.19753086419753%\n",
            "Early stopping 적용\n"
          ]
        }
      ]
    },
    {
      "cell_type": "code",
      "source": [],
      "metadata": {
        "id": "Z0z0zL_WQYj2"
      },
      "execution_count": null,
      "outputs": []
    }
  ]
}
