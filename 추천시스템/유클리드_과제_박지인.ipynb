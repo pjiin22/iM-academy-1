{
  "nbformat": 4,
  "nbformat_minor": 0,
  "metadata": {
    "colab": {
      "provenance": []
    },
    "kernelspec": {
      "name": "python3",
      "display_name": "Python 3"
    },
    "language_info": {
      "name": "python"
    }
  },
  "cells": [
    {
      "cell_type": "code",
      "source": [
        "import pandas as pd\n",
        "ratings = pd.read_csv('/content/ratings.csv')\n",
        "df = ratings.pivot_table(index = \"userId\", columns = 'movieId', values = 'rating', aggfunc = sum).values\n",
        "\n",
        "df"
      ],
      "metadata": {
        "colab": {
          "base_uri": "https://localhost:8080/"
        },
        "id": "7QA0tUXG1Koo",
        "outputId": "8dbfd920-f873-47fb-e062-cc7fb0a9a28e"
      },
      "execution_count": 5,
      "outputs": [
        {
          "output_type": "stream",
          "name": "stderr",
          "text": [
            "<ipython-input-5-2baa1610ec85>:3: FutureWarning: The provided callable <built-in function sum> is currently using DataFrameGroupBy.sum. In a future version of pandas, the provided callable will be used directly. To keep current behavior pass the string \"sum\" instead.\n",
            "  df = ratings.pivot_table(index = \"userId\", columns = 'movieId', values = 'rating', aggfunc = sum).values\n"
          ]
        },
        {
          "output_type": "execute_result",
          "data": {
            "text/plain": [
              "array([[4. , nan, 4. , ..., nan, nan, nan],\n",
              "       [nan, nan, nan, ..., nan, nan, nan],\n",
              "       [nan, nan, nan, ..., nan, nan, nan],\n",
              "       ...,\n",
              "       [2.5, 2. , 2. , ..., nan, nan, nan],\n",
              "       [3. , nan, nan, ..., nan, nan, nan],\n",
              "       [5. , nan, nan, ..., nan, nan, nan]])"
            ]
          },
          "metadata": {},
          "execution_count": 5
        }
      ]
    },
    {
      "cell_type": "code",
      "source": [
        "nan_mask = np.isnan(df) #누락값 있는 곳 미리 저장\n",
        "\n",
        "df_filled = df.copy()\n",
        "\n",
        "for i in range(len(df_filled)):\n",
        "    mean = np.nanmean(df_filled[i])\n",
        "    df_filled[i] = np.nan_to_num(df_filled[i], nan = mean)\n",
        "    df_filled[i] -= mean\n",
        "\n",
        "df_filled"
      ],
      "metadata": {
        "colab": {
          "base_uri": "https://localhost:8080/"
        },
        "id": "zcr3pWS11LEW",
        "outputId": "de50cafd-96e9-454a-dae7-8c8f948c5917"
      },
      "execution_count": 6,
      "outputs": [
        {
          "output_type": "execute_result",
          "data": {
            "text/plain": [
              "array([[-0.36637931,  0.        , -0.36637931, ...,  0.        ,\n",
              "         0.        ,  0.        ],\n",
              "       [ 0.        ,  0.        ,  0.        , ...,  0.        ,\n",
              "         0.        ,  0.        ],\n",
              "       [ 0.        ,  0.        ,  0.        , ...,  0.        ,\n",
              "         0.        ,  0.        ],\n",
              "       ...,\n",
              "       [-0.63417569, -1.13417569, -1.13417569, ...,  0.        ,\n",
              "         0.        ,  0.        ],\n",
              "       [-0.27027027,  0.        ,  0.        , ...,  0.        ,\n",
              "         0.        ,  0.        ],\n",
              "       [ 1.31144393,  0.        ,  0.        , ...,  0.        ,\n",
              "         0.        ,  0.        ]])"
            ]
          },
          "metadata": {},
          "execution_count": 6
        }
      ]
    },
    {
      "cell_type": "code",
      "source": [
        "# 코사인 유사도\n",
        "def cosine_similarity_matrix(data):\n",
        "    num_users = data.shape[0]\n",
        "    similarity_matrix = np.zeros((num_users, num_users))\n",
        "\n",
        "    for i in range(num_users):\n",
        "        for j in range(num_users):\n",
        "            if i != j:\n",
        "                dot_product = np.dot(data[i], data[j])\n",
        "                norm_i = np.linalg.norm(data[i])\n",
        "                norm_j = np.linalg.norm(data[j])\n",
        "                similarity_matrix[i][j] = dot_product / (norm_i * norm_j)\n",
        "\n",
        "    return similarity_matrix\n",
        "\n",
        "cosine_similarity = cosine_similarity_matrix(df_filled)"
      ],
      "metadata": {
        "colab": {
          "base_uri": "https://localhost:8080/"
        },
        "id": "KvWbXxR71fuc",
        "outputId": "c6279313-2587-4be5-b4ac-a2eb3d4b4d3a"
      },
      "execution_count": 7,
      "outputs": [
        {
          "output_type": "stream",
          "name": "stderr",
          "text": [
            "<ipython-input-7-a868343ff5b1>:12: RuntimeWarning: invalid value encountered in scalar divide\n",
            "  similarity_matrix[i][j] = dot_product / (norm_i * norm_j)\n"
          ]
        }
      ]
    },
    {
      "cell_type": "code",
      "source": [
        "#고려할 이웃의 수\n",
        "k = 5\n",
        "\n",
        "#각 유저별로 가장 거리가 짧았던 5명이 있는 위치\n",
        "nearest_neighbors = np.argsort(cosine_similarity, axis=1)[:, 1:k+1]"
      ],
      "metadata": {
        "id": "VOH42HKJ3Hk2"
      },
      "execution_count": 8,
      "outputs": []
    },
    {
      "cell_type": "code",
      "source": [
        "#0번째 사람이 영화를 추천할 예정\n",
        "user = 0\n",
        "\n",
        "user_ratings = df[user]\n",
        "user_nan_mask = nan_mask[user]"
      ],
      "metadata": {
        "id": "YHtwxMBw3N74"
      },
      "execution_count": 9,
      "outputs": []
    },
    {
      "cell_type": "code",
      "source": [
        "#0번째 사람이 평가하지 않은 영화 목록\n",
        "unrated_indices = np.where(user_nan_mask)[0]"
      ],
      "metadata": {
        "id": "bdl1Auc23QbC"
      },
      "execution_count": 10,
      "outputs": []
    },
    {
      "cell_type": "code",
      "source": [
        "# 이웃의 인덱스 가져오기\n",
        "neighbors_indices = nearest_neighbors[user]"
      ],
      "metadata": {
        "id": "pXf6d2gb3SG6"
      },
      "execution_count": 11,
      "outputs": []
    },
    {
      "cell_type": "code",
      "source": [
        "#영화별 예측된 평점들을 저장해놓을 장소\n",
        "predictions = {}\n",
        "\n",
        "neibors_dindices = nearest_neighbors[user]\n",
        "\n",
        "for movie_idx in unrated_indices:\n",
        "    neighbor_ratings = [] #이웃들이 이 영화를 몇점으로 평가했는가\n",
        "    for neighbor_idx in neighbors_indices:\n",
        "        if not (nan_mask[neighbor_idx][movie_idx]):\n",
        "            neighbor_ratings.append(df[neighbor_idx][movie_idx])\n",
        "\n",
        "    if neighbor_ratings != []:\n",
        "        predictions[movie_idx] = np.mean(neighbor_ratings)"
      ],
      "metadata": {
        "id": "khPFYRil3T1X"
      },
      "execution_count": 13,
      "outputs": []
    },
    {
      "cell_type": "code",
      "source": [
        "movies = pd.read_csv(\"/content/movies.csv\")\n",
        "movie_names = {}\n",
        "for i in range (len(movies)):\n",
        "    a = movies.iloc[i]\n",
        "    movie_names[a['movieId']] = a['title']"
      ],
      "metadata": {
        "id": "yyaOR5Jh3WqQ"
      },
      "execution_count": 18,
      "outputs": []
    },
    {
      "cell_type": "code",
      "source": [
        "sorted_predicions = sorted(predictions.items(),\n",
        "                           key = lambda i : i[1], reverse = True)\n",
        "\n",
        "for i in sorted_predicions[:5]:\n",
        "    print(f\"추천영화 : {movie_names.get(i[0], '제목 없음')} (예측평점 : {i[1]}점)\")"
      ],
      "metadata": {
        "colab": {
          "base_uri": "https://localhost:8080/"
        },
        "id": "36E6vhf73dy7",
        "outputId": "03d8d3e0-4730-4bc2-fe02-8197b063f399"
      },
      "execution_count": 21,
      "outputs": [
        {
          "output_type": "stream",
          "name": "stdout",
          "text": [
            "추천영화 : Sense and Sensibility (1995) (예측평점 : 5.0점)\n",
            "추천영화 : Anne Frank Remembered (1995) (예측평점 : 5.0점)\n",
            "추천영화 : 제목 없음 (예측평점 : 5.0점)\n",
            "추천영화 : Emma (1996) (예측평점 : 5.0점)\n",
            "추천영화 : To Gillian on Her 37th Birthday (1996) (예측평점 : 5.0점)\n"
          ]
        }
      ]
    },
    {
      "cell_type": "code",
      "source": [
        "sorted_predicions = sorted(predictions.items(),\n",
        "                           key = lambda i : i[1], reverse = True)\n",
        "\n",
        "# 추천할 영화의 수\n",
        "top_N = 5\n",
        "recommendations = sorted_predicions[:top_N]\n",
        "\n",
        "for i in recommendations:\n",
        "    movie_id = i[0]\n",
        "    predicted_rating = i[1]\n",
        "\n",
        "    movie_name = movie_names.get(movie_id, \"제목 없음\")\n",
        "\n",
        "    print(f\"추천영화 : {movie_name} (예측평점 : {predicted_rating}점)\")"
      ],
      "metadata": {
        "colab": {
          "base_uri": "https://localhost:8080/"
        },
        "id": "m2mkagGR3yir",
        "outputId": "8a42b32b-564a-46e4-8dd0-b3ea40a8ec96"
      },
      "execution_count": 22,
      "outputs": [
        {
          "output_type": "stream",
          "name": "stdout",
          "text": [
            "추천영화 : Sense and Sensibility (1995) (예측평점 : 5.0점)\n",
            "추천영화 : Anne Frank Remembered (1995) (예측평점 : 5.0점)\n",
            "추천영화 : 제목 없음 (예측평점 : 5.0점)\n",
            "추천영화 : Emma (1996) (예측평점 : 5.0점)\n",
            "추천영화 : To Gillian on Her 37th Birthday (1996) (예측평점 : 5.0점)\n"
          ]
        }
      ]
    },
    {
      "cell_type": "code",
      "source": [],
      "metadata": {
        "id": "d6Dd23eA9dxn"
      },
      "execution_count": null,
      "outputs": []
    }
  ]
}